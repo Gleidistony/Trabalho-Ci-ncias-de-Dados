{
  "nbformat": 4,
  "nbformat_minor": 0,
  "metadata": {
    "colab": {
      "provenance": [],
      "authorship_tag": "ABX9TyO4vzOZiFebI3vH+lvBERIj",
      "include_colab_link": true
    },
    "kernelspec": {
      "name": "python3",
      "display_name": "Python 3"
    },
    "language_info": {
      "name": "python"
    }
  },
  "cells": [
    {
      "cell_type": "markdown",
      "metadata": {
        "id": "view-in-github",
        "colab_type": "text"
      },
      "source": [
        "<a href=\"https://colab.research.google.com/github/Gleidistony/Trabalho-Ci-ncias-de-Dados/blob/main/quintaquestao.ipynb\" target=\"_parent\"><img src=\"https://colab.research.google.com/assets/colab-badge.svg\" alt=\"Open In Colab\"/></a>"
      ]
    },
    {
      "cell_type": "markdown",
      "source": [
        "**5 QUESTÃO**\n",
        "\n",
        "a) inserir(valor): Insere um valor na árvore B"
      ],
      "metadata": {
        "id": "H8xxD0-lwJhs"
      }
    },
    {
      "cell_type": "code",
      "execution_count": null,
      "metadata": {
        "id": "85k_Jvh3ud7-"
      },
      "outputs": [],
      "source": [
        "import time\n",
        "from collections import deque"
      ]
    },
    {
      "cell_type": "code",
      "source": [
        "class BTreeNode:\n",
        "    def __init__(self, t, folha=False):\n",
        "        self.t = t  # Grau mínimo\n",
        "        self.chaves = []  # Lista de chaves\n",
        "        self.filhos = []  # Lista de filhos\n",
        "        self.folha = folha  # Booleano indicando se é folha\n",
        "\n",
        "    def inserir_nao_cheio(self, valor):\n",
        "        i = len(self.chaves) - 1\n",
        "\n",
        "        if self.folha:\n",
        "            self.chaves.append(None)\n",
        "            while i >= 0 and valor < self.chaves[i]:\n",
        "                self.chaves[i + 1] = self.chaves[i]\n",
        "                i -= 1\n",
        "            self.chaves[i + 1] = valor\n",
        "        else:\n",
        "            while i >= 0 and valor < self.chaves[i]:\n",
        "                i -= 1\n",
        "            i += 1\n",
        "\n",
        "            if len(self.filhos[i].chaves) == 2 * self.t - 1:\n",
        "                self.dividir_filho(i, self.filhos[i])\n",
        "                if valor > self.chaves[i]:\n",
        "                    i += 1\n",
        "            self.filhos[i].inserir_nao_cheio(valor)\n",
        "\n",
        "    def dividir_filho(self, i, y):\n",
        "        t = self.t\n",
        "        z = BTreeNode(t, y.folha)\n",
        "        z.chaves = y.chaves[t:]\n",
        "        y.chaves = y.chaves[:t - 1]\n",
        "\n",
        "        if not y.folha:\n",
        "            z.filhos = y.filhos[t:]\n",
        "            y.filhos = y.filhos[:t]\n",
        "\n",
        "        self.filhos.insert(i + 1, z)\n",
        "        self.chaves.insert(i, y.chaves.pop())\n",
        "\n",
        "\n",
        "class BTree:\n",
        "    def __init__(self, t):\n",
        "        self.raiz = BTreeNode(t, True)\n",
        "        self.t = t\n",
        "\n",
        "    def inserir(self, valor):\n",
        "        raiz = self.raiz\n",
        "\n",
        "        if len(raiz.chaves) == 2 * self.t - 1:\n",
        "            s = BTreeNode(self.t, False)\n",
        "            s.filhos.insert(0, raiz)\n",
        "            s.dividir_filho(0, raiz)\n",
        "            i = 0\n",
        "            if s.chaves[0] < valor:\n",
        "                i += 1\n",
        "            s.filhos[i].inserir_nao_cheio(valor)\n",
        "            self.raiz = s\n",
        "        else:\n",
        "            raiz.inserir_nao_cheio(valor)\n",
        "\n",
        "# Medição do tempo de inicialização de deques\n",
        "def medir_tempo_deque(tamanho):\n",
        "    inicio = time.time()\n",
        "    d = deque(range(tamanho))\n",
        "    fim = time.time()\n",
        "    print(f\"Tamanho do deque: {tamanho}\")\n",
        "    print(f\"Tempo de inicialização: {fim - inicio:.6f} segundos\\n\")\n",
        "\n",
        "if __name__ == '__main__':\n",
        "    tamanhos = [1000, 10000, 1000000]\n",
        "    for tamanho in tamanhos:\n",
        "        medir_tempo_deque(tamanho)"
      ],
      "metadata": {
        "colab": {
          "base_uri": "https://localhost:8080/"
        },
        "id": "RYC06iy8xzZi",
        "outputId": "d114099b-2fe6-4fed-f329-418d663dd6a8"
      },
      "execution_count": null,
      "outputs": [
        {
          "output_type": "stream",
          "name": "stdout",
          "text": [
            "Tamanho do deque: 1000\n",
            "Tempo de inicialização: 0.000053 segundos\n",
            "\n",
            "Tamanho do deque: 10000\n",
            "Tempo de inicialização: 0.000444 segundos\n",
            "\n",
            "Tamanho do deque: 1000000\n",
            "Tempo de inicialização: 0.080835 segundos\n",
            "\n"
          ]
        }
      ]
    },
    {
      "cell_type": "markdown",
      "source": [
        "Função: O código mede o tempo de inicialização de um deque com diferentes tamanhos usando deque(range(tamanho)).\n",
        "\n",
        "Complexidade:\n",
        "\n",
        "Tempo: O(n) — A inicialização percorre e insere n elementos no deque.\n",
        "\n",
        "Espaço: O(n) — O deque precisa armazenar todos os n elementos criados.\n",
        "\n",
        "O código apenas avalia o custo de criação do deque sem realizar operações adicionais (como inserções ou remoções).\n",
        "\n",
        "Demonstração da implementação de uma árvore B em Python, juntamente com a medição do tempo de inicialização de deques de diferentes tamanhos."
      ],
      "metadata": {
        "id": "Y-Xsu3mqxAiS"
      }
    },
    {
      "cell_type": "markdown",
      "source": [
        "b) remover(valor): Remove um valor da árvore B."
      ],
      "metadata": {
        "id": "MxOsMNoEphxl"
      }
    },
    {
      "cell_type": "code",
      "source": [
        "import time\n",
        "from collections import deque"
      ],
      "metadata": {
        "id": "ME6mA2eIpuPV"
      },
      "execution_count": null,
      "outputs": []
    },
    {
      "cell_type": "code",
      "source": [
        "import time\n",
        "from collections import deque\n",
        "\n",
        "class BTreeNode:\n",
        "    def __init__(self, t, leaf=False):\n",
        "        self.t = t  # Grau mínimo\n",
        "        self.leaf = leaf\n",
        "        self.keys = []\n",
        "        self.children = []\n",
        "\n",
        "    def find_key(self, k):\n",
        "        idx = 0\n",
        "        while idx < len(self.keys) and self.keys[idx] < k:\n",
        "            idx += 1\n",
        "        return idx\n",
        "\n",
        "    def remove(self, k):\n",
        "        idx = self.find_key(k)\n",
        "\n",
        "        if idx < len(self.keys) and self.keys[idx] == k:\n",
        "            if self.leaf:\n",
        "                self.keys.pop(idx)\n",
        "            else:\n",
        "                self.remove_internal_node(k, idx)\n",
        "        else:\n",
        "            if self.leaf:\n",
        "                return  # A chave não está na árvore\n",
        "            flag = (idx == len(self.keys))\n",
        "            if len(self.children[idx].keys) < self.t:\n",
        "                self.fill(idx)\n",
        "            if flag and idx > len(self.keys):\n",
        "                self.children[idx - 1].remove(k)\n",
        "            else:\n",
        "                self.children[idx].remove(k)\n",
        "\n",
        "    def remove_internal_node(self, k, idx):\n",
        "        if len(self.children[idx].keys) >= self.t:\n",
        "            pred = self.get_predecessor(idx)\n",
        "            self.keys[idx] = pred\n",
        "            self.children[idx].remove(pred)\n",
        "        elif len(self.children[idx + 1].keys) >= self.t:\n",
        "            succ = self.get_successor(idx)\n",
        "            self.keys[idx] = succ\n",
        "            self.children[idx + 1].remove(succ)\n",
        "        else:\n",
        "            self.merge(idx)\n",
        "            self.children[idx].remove(k)\n",
        "\n",
        "    def get_predecessor(self, idx):\n",
        "        current = self.children[idx]\n",
        "        while not current.leaf:\n",
        "            current = current.children[-1]\n",
        "        return current.keys[-1]\n",
        "\n",
        "    def get_successor(self, idx):\n",
        "        current = self.children[idx + 1]\n",
        "        while not current.leaf:\n",
        "            current = current.children[0]\n",
        "        return current.keys[0]\n",
        "\n",
        "    def fill(self, idx):\n",
        "        if idx != 0 and len(self.children[idx - 1].keys) >= self.t:\n",
        "            self.borrow_from_prev(idx)\n",
        "        elif idx != len(self.keys) and len(self.children[idx + 1].keys) >= self.t:\n",
        "            self.borrow_from_next(idx)\n",
        "        else:\n",
        "            if idx != len(self.keys):\n",
        "                self.merge(idx)\n",
        "            else:\n",
        "                self.merge(idx - 1)\n",
        "\n",
        "    def borrow_from_prev(self, idx):\n",
        "        child = self.children[idx]\n",
        "        sibling = self.children[idx - 1]\n",
        "\n",
        "        child.keys.insert(0, self.keys[idx - 1])\n",
        "        if not child.leaf:\n",
        "            child.children.insert(0, sibling.children.pop())\n",
        "        self.keys[idx - 1] = sibling.keys.pop()\n",
        "\n",
        "    def borrow_from_next(self, idx):\n",
        "        child = self.children[idx]\n",
        "        sibling = self.children[idx + 1]\n",
        "\n",
        "        child.keys.append(self.keys[idx])\n",
        "        if not child.leaf:\n",
        "            child.children.append(sibling.children.pop(0))\n",
        "        self.keys[idx] = sibling.keys.pop(0)\n",
        "\n",
        "    def merge(self, idx):\n",
        "        child = self.children[idx]\n",
        "        sibling = self.children[idx + 1]\n",
        "\n",
        "        child.keys.append(self.keys.pop(idx))\n",
        "        child.keys.extend(sibling.keys)\n",
        "\n",
        "        if not child.leaf:\n",
        "            child.children.extend(sibling.children)\n",
        "\n",
        "        self.children.pop(idx + 1)\n",
        "\n",
        "class BTree:\n",
        "    def __init__(self, t):\n",
        "        self.t = t\n",
        "        self.root = BTreeNode(t, True)\n",
        "\n",
        "    def remove(self, k):\n",
        "        if not self.root:\n",
        "            return\n",
        "\n",
        "        start_time = time.time()\n",
        "        self.root.remove(k)\n",
        "        end_time = time.time()\n",
        "\n",
        "        if len(self.root.keys) == 0:\n",
        "            if self.root.leaf:\n",
        "                self.root = None\n",
        "            else:\n",
        "                self.root = self.root.children[0]\n",
        "        print(f\"Tempo para remover {k}: {end_time - start_time:.6f} segundos\")\n",
        "\n",
        "# Testando inicialização de deque\n",
        "sizes = [1000, 10000, 1000000]\n",
        "for size in sizes:\n",
        "    start_time = time.time()\n",
        "    dq = deque(range(size))\n",
        "    end_time = time.time()\n",
        "    print(f\"Tempo de inicialização: {end_time - start_time:.6f} segundos\")\n",
        "    print(f\"Tamanho do deque: {size}\\n\")"
      ],
      "metadata": {
        "colab": {
          "base_uri": "https://localhost:8080/"
        },
        "id": "8U30VI6YpvG8",
        "outputId": "3916ff20-0a10-4ea3-c1cc-2add03bae710"
      },
      "execution_count": null,
      "outputs": [
        {
          "output_type": "stream",
          "name": "stdout",
          "text": [
            "Tempo de inicialização: 0.000027 segundos\n",
            "Tamanho do deque: 1000\n",
            "\n",
            "Tempo de inicialização: 0.000352 segundos\n",
            "Tamanho do deque: 10000\n",
            "\n",
            "Tempo de inicialização: 0.034439 segundos\n",
            "Tamanho do deque: 1000000\n",
            "\n"
          ]
        }
      ]
    },
    {
      "cell_type": "markdown",
      "source": [
        "• Busca/Remoção/Inserção: O(log n)\n",
        "\n",
        "A altura da Árvore B é logarítmica devido ao balanceamento.\n",
        "\n",
        "Operações de remoção podem envolver fusões e redistribuições, mas o custo médio permanece O(log n).\n",
        "\n",
        "• Inicialização: O(n)\n",
        "\n",
        "Criar um deque com n elementos é linear em relação ao tamanho.\n",
        "\n",
        "Inserções e remoções nas extremidades do deque são O(1)."
      ],
      "metadata": {
        "id": "Of_xxwSEsaSr"
      }
    },
    {
      "cell_type": "markdown",
      "source": [
        "c) altura(): Retorna a altura da árvore B.\n"
      ],
      "metadata": {
        "id": "y942GAkEupuy"
      }
    },
    {
      "cell_type": "code",
      "source": [
        "import time\n",
        "from collections import deque"
      ],
      "metadata": {
        "id": "eixHHVjbuvoZ"
      },
      "execution_count": null,
      "outputs": []
    },
    {
      "cell_type": "code",
      "source": [
        "class BTreeNode:\n",
        "    def __init__(self, t, leaf=False):\n",
        "        self.t = t\n",
        "        self.leaf = leaf\n",
        "        self.keys = []\n",
        "        self.children = []\n",
        "\n",
        "class BTree:\n",
        "    def __init__(self, t):\n",
        "        self.t = t\n",
        "        self.root = BTreeNode(t, True)\n",
        "\n",
        "    def altura(self):\n",
        "        start_time = time.time()\n",
        "        height = 0\n",
        "        current = self.root\n",
        "        while current and not current.leaf:\n",
        "            current = current.children[0]\n",
        "            height += 1\n",
        "        end_time = time.time()\n",
        "        print(f\"Altura da árvore: {height}\")\n",
        "        print(f\"Tempo para calcular altura: {end_time - start_time:.6f} segundos\")\n",
        "        return height\n",
        "\n",
        "# Testando inicialização de deque\n",
        "sizes = [1000, 10000, 1000000]\n",
        "for size in sizes:\n",
        "    start_time = time.time()\n",
        "    dq = deque(range(size))\n",
        "    end_time = time.time()\n",
        "    print(f\"Tempo de inicialização: {end_time - start_time:.6f} segundos\")\n",
        "    print(f\"Tamanho do deque: {size}\\n\")"
      ],
      "metadata": {
        "colab": {
          "base_uri": "https://localhost:8080/"
        },
        "id": "-QQbQzwouxyR",
        "outputId": "1994ce65-3fdd-4d26-bca0-1e03a69f7151"
      },
      "execution_count": null,
      "outputs": [
        {
          "output_type": "stream",
          "name": "stdout",
          "text": [
            "Tempo de inicialização: 0.000026 segundos\n",
            "Tamanho do deque: 1000\n",
            "\n",
            "Tempo de inicialização: 0.000527 segundos\n",
            "Tamanho do deque: 10000\n",
            "\n",
            "Tempo de inicialização: 0.044112 segundos\n",
            "Tamanho do deque: 1000000\n",
            "\n"
          ]
        }
      ]
    },
    {
      "cell_type": "markdown",
      "source": [
        "• Árvore B - Altura:\n",
        "\n",
        "- Complexidade: O(h) onde h é a altura da árvore.\n",
        "\n",
        "- Tempo: Muito rápido em árvores balanceadas (O(log n) em árvores B típicas).\n",
        "\n",
        "• Deque:\n",
        "\n",
        "- Inicialização: O(n) para criar um deque com n elementos.\n",
        "\n",
        "- Operações em Extremidades: Inserções e remoções são O(1)."
      ],
      "metadata": {
        "id": "R79UValqxaJa"
      }
    },
    {
      "cell_type": "markdown",
      "source": [
        "d) buscar(valor): Verifica se um valor está na árvore B.\n"
      ],
      "metadata": {
        "id": "T65K9VB_8Gy6"
      }
    },
    {
      "cell_type": "code",
      "source": [
        "import time\n",
        "from collections import deque"
      ],
      "metadata": {
        "id": "AmwbOBC09JJA"
      },
      "execution_count": null,
      "outputs": []
    },
    {
      "cell_type": "code",
      "source": [
        "class BTreeNode:\n",
        "    def __init__(self, t, leaf=False):\n",
        "        self.t = t  # Grau mínimo\n",
        "        self.leaf = leaf\n",
        "        self.keys = []\n",
        "        self.children = []\n",
        "\n",
        "    def search(self, k):\n",
        "        i = 0\n",
        "        while i < len(self.keys) and k > self.keys[i]:\n",
        "            i += 1\n",
        "\n",
        "        if i < len(self.keys) and self.keys[i] == k:\n",
        "            return self\n",
        "\n",
        "        if self.leaf:\n",
        "            return None\n",
        "\n",
        "        return self.children[i].search(k)\n",
        "\n",
        "class BTree:\n",
        "    def __init__(self, t):\n",
        "        self.root = BTreeNode(t, True)\n",
        "        self.t = t\n",
        "\n",
        "    def search(self, k):\n",
        "        return self.root.search(k)\n",
        "\n",
        "# Função para medir o tempo de inicialização do deque\n",
        "def measure_deque_initialization(sizes):\n",
        "    for size in sizes:\n",
        "        start_time = time.time()\n",
        "        dq = deque(range(size))\n",
        "        end_time = time.time()\n",
        "        print(f\"Tempo de inicialização: {end_time - start_time:.6f} segundos\")\n",
        "        print(f\"Tamanho do deque: {size}\\n\")\n",
        "\n",
        "# Testando o deque\n",
        "sizes = [1000, 10000, 1000000]\n",
        "measure_deque_initialization(sizes)\n",
        "\n",
        "# Exemplo de uso da árvore B\n",
        "btree = BTree(t=3)  # Grau mínimo 3\n",
        "# Aqui você pode implementar a inserção e testar a busca\n",
        "# Exemplo: node = btree.search(10)  # Buscar pelo valor 10\n"
      ],
      "metadata": {
        "colab": {
          "base_uri": "https://localhost:8080/"
        },
        "id": "Ttf-AUNQ9Mmw",
        "outputId": "f28b9e38-8c56-458d-f8af-932316add5e3"
      },
      "execution_count": null,
      "outputs": [
        {
          "output_type": "stream",
          "name": "stdout",
          "text": [
            "Tempo de inicialização: 0.000050 segundos\n",
            "Tamanho do deque: 1000\n",
            "\n",
            "Tempo de inicialização: 0.000225 segundos\n",
            "Tamanho do deque: 10000\n",
            "\n",
            "Tempo de inicialização: 0.044464 segundos\n",
            "Tamanho do deque: 1000000\n",
            "\n"
          ]
        }
      ]
    },
    {
      "cell_type": "markdown",
      "source": [
        "A árvore B tem a função search(valor) para verificar se um valor está presente.\n",
        "\n",
        "A função \"measure_deque_initialization\" mede o tempo necessário para inicializar o deque em diferentes tamanhos.\n",
        "\n"
      ],
      "metadata": {
        "id": "R3D33-fQ-Lyo"
      }
    },
    {
      "cell_type": "markdown",
      "source": [
        "1 - Busca na Árvore B:\n",
        "\n",
        "• Complexidade: O(log n)\n",
        "\n",
        "A busca é feita percorrendo as chaves e descendo recursivamente nos filhos.\n",
        "Em um nó com t chaves, a busca interna custa O(t), mas a profundidade é O(logₜ n).\n",
        "\n",
        "2 - Inicialização do Deque:\n",
        "\n",
        "• Complexidade: O(n)\n",
        "Inicializar o deque com n elementos é linear, pois cada elemento é inserido uma vez."
      ],
      "metadata": {
        "id": "zVi82sw8-cIR"
      }
    },
    {
      "cell_type": "markdown",
      "source": [
        "e) sucessor(x): Sucessor de um nó x na árvore."
      ],
      "metadata": {
        "id": "Yf1wxSw0-q_h"
      }
    },
    {
      "cell_type": "code",
      "source": [
        "import time\n",
        "from collections import deque"
      ],
      "metadata": {
        "id": "FcMhe6Zl--C5"
      },
      "execution_count": null,
      "outputs": []
    },
    {
      "cell_type": "code",
      "source": [
        "class BTreeNode:\n",
        "    def __init__(self, t, leaf=False):\n",
        "        self.t = t\n",
        "        self.leaf = leaf\n",
        "        self.keys = []\n",
        "        self.children = []\n",
        "\n",
        "class BTree:\n",
        "    def __init__(self, t):\n",
        "        self.root = BTreeNode(t, True)\n",
        "        self.t = t\n",
        "\n",
        "    def insert(self, k):\n",
        "        root = self.root\n",
        "        if len(root.keys) == 2 * self.t - 1:\n",
        "            s = BTreeNode(self.t)\n",
        "            s.children.insert(0, root)\n",
        "            self._split_child(s, 0)\n",
        "            self._insert_non_full(s, k)\n",
        "            self.root = s\n",
        "        else:\n",
        "            self._insert_non_full(root, k)\n",
        "\n",
        "    def _insert_non_full(self, node, k):\n",
        "        i = len(node.keys) - 1\n",
        "        if node.leaf:\n",
        "            node.keys.append(None)\n",
        "            while i >= 0 and k < node.keys[i]:\n",
        "                node.keys[i + 1] = node.keys[i]\n",
        "                i -= 1\n",
        "            node.keys[i + 1] = k\n",
        "        else:\n",
        "            while i >= 0 and k < node.keys[i]:\n",
        "                i -= 1\n",
        "            i += 1\n",
        "            if len(node.children[i].keys) == 2 * self.t - 1:\n",
        "                self._split_child(node, i)\n",
        "                if k > node.keys[i]:\n",
        "                    i += 1\n",
        "            self._insert_non_full(node.children[i], k)\n",
        "\n",
        "    def _split_child(self, parent, i):\n",
        "        t = self.t\n",
        "        y = parent.children[i]\n",
        "        z = BTreeNode(t, y.leaf)\n",
        "        parent.children.insert(i + 1, z)\n",
        "        parent.keys.insert(i, y.keys[t - 1])\n",
        "        z.keys = y.keys[t:(2 * t - 1)]\n",
        "        y.keys = y.keys[0:(t - 1)]\n",
        "        if not y.leaf:\n",
        "            z.children = y.children[t:(2 * t)]\n",
        "            y.children = y.children[0:t]\n",
        "\n",
        "    def successor(self, node, k):\n",
        "        idx = 0\n",
        "        while idx < len(node.keys) and node.keys[idx] < k:\n",
        "            idx += 1\n",
        "\n",
        "        if idx < len(node.keys) and node.keys[idx] == k:\n",
        "            if not node.leaf:\n",
        "                return self._min_value(node.children[idx + 1])\n",
        "            else:\n",
        "                if idx + 1 < len(node.keys):\n",
        "                    return node.keys[idx + 1]\n",
        "                else:\n",
        "                    return None\n",
        "        elif not node.leaf:\n",
        "            return self.successor(node.children[idx], k)\n",
        "        else:\n",
        "            return None\n",
        "\n",
        "    def _min_value(self, node):\n",
        "        current = node\n",
        "        while not current.leaf:\n",
        "            current = current.children[0]\n",
        "        return current.keys[0]\n",
        "\n",
        "def deque_initialization_test(sizes):\n",
        "    for size in sizes:\n",
        "        start_time = time.time()\n",
        "        dq = deque(range(size))\n",
        "        end_time = time.time()\n",
        "        print(f\"Tamanho do deque: {size}\")\n",
        "        print(f\"Tempo de inicialização: {end_time - start_time:.6f} segundos\\n\")\n",
        "\n",
        "if __name__ == \"__main__\":\n",
        "    btree = BTree(t=3)\n",
        "    elements = [10, 20, 5, 6, 12, 30, 7, 17]\n",
        "    for elem in elements:\n",
        "        btree.insert(elem)\n",
        "\n",
        "    key = 6\n",
        "    succ = btree.successor(btree.root, key)\n",
        "    print(f\"Sucessor de {key}: {succ}\\n\")\n",
        "\n",
        "    sizes = [1000, 10000, 1000000]\n",
        "    deque_initialization_test(sizes)"
      ],
      "metadata": {
        "colab": {
          "base_uri": "https://localhost:8080/"
        },
        "id": "2M5abGhy_Auy",
        "outputId": "ca8ebe15-ebcc-4362-a15d-a682b72762db"
      },
      "execution_count": null,
      "outputs": [
        {
          "output_type": "stream",
          "name": "stdout",
          "text": [
            "Sucessor de 6: 7\n",
            "\n",
            "Tamanho do deque: 1000\n",
            "Tempo de inicialização: 0.000038 segundos\n",
            "\n",
            "Tamanho do deque: 10000\n",
            "Tempo de inicialização: 0.000197 segundos\n",
            "\n",
            "Tamanho do deque: 1000000\n",
            "Tempo de inicialização: 0.033123 segundos\n",
            "\n"
          ]
        }
      ]
    },
    {
      "cell_type": "markdown",
      "source": [
        "1 - Árvore B:\n",
        "\n",
        "• Inserção: O(log n) — devido ao balanceamento da árvore.\n",
        "\n",
        "• Busca do sucessor: O(log n) — navegação pela árvore para encontrar o sucessor.\n",
        "\n",
        "2 - Deque Initialization:\n",
        "\n",
        "• Inicialização: O(n) — onde n é o número de elementos, pois todos os elementos precisam ser inseridos no deque.\n",
        "\n",
        "• Tempo de execução: Cresce linearmente com o aumento do tamanho do deque."
      ],
      "metadata": {
        "id": "7bGtAONJ_uLq"
      }
    },
    {
      "cell_type": "markdown",
      "source": [
        "f) predecessor(x): Predecessor de um nó x na árvore."
      ],
      "metadata": {
        "id": "zar0tH1UAJmh"
      }
    },
    {
      "cell_type": "code",
      "source": [
        "import time\n",
        "from collections import deque"
      ],
      "metadata": {
        "id": "VTX-yaIMBALZ"
      },
      "execution_count": null,
      "outputs": []
    },
    {
      "cell_type": "code",
      "source": [
        "class BTreeNode:\n",
        "    def __init__(self, t, leaf=False):\n",
        "        self.t = t  # Grau mínimo\n",
        "        self.leaf = leaf\n",
        "        self.keys = []\n",
        "        self.children = []\n",
        "\n",
        "class BTree:\n",
        "    def __init__(self, t):\n",
        "        self.root = BTreeNode(t, True)\n",
        "        self.t = t\n",
        "\n",
        "    def search(self, k, node=None):\n",
        "        if node is None:\n",
        "            node = self.root\n",
        "\n",
        "        i = 0\n",
        "        while i < len(node.keys) and k > node.keys[i]:\n",
        "            i += 1\n",
        "\n",
        "        if i < len(node.keys) and node.keys[i] == k:\n",
        "            return node, i\n",
        "\n",
        "        if node.leaf:\n",
        "            return None\n",
        "\n",
        "        return self.search(k, node.children[i])\n",
        "\n",
        "    def insert(self, k):\n",
        "        root = self.root\n",
        "        if len(root.keys) == 2 * self.t - 1:\n",
        "            new_root = BTreeNode(self.t, False)\n",
        "            new_root.children.insert(0, root)\n",
        "            self.split_child(new_root, 0)\n",
        "            self.insert_non_full(new_root, k)\n",
        "            self.root = new_root\n",
        "        else:\n",
        "            self.insert_non_full(root, k)\n",
        "\n",
        "    def insert_non_full(self, node, k):\n",
        "        i = len(node.keys) - 1\n",
        "\n",
        "        if node.leaf:\n",
        "            node.keys.append(0)\n",
        "            while i >= 0 and k < node.keys[i]:\n",
        "                node.keys[i + 1] = node.keys[i]\n",
        "                i -= 1\n",
        "            node.keys[i + 1] = k\n",
        "        else:\n",
        "            while i >= 0 and k < node.keys[i]:\n",
        "                i -= 1\n",
        "            i += 1\n",
        "\n",
        "            if len(node.children[i].keys) == 2 * self.t - 1:\n",
        "                self.split_child(node, i)\n",
        "                if k > node.keys[i]:\n",
        "                    i += 1\n",
        "            self.insert_non_full(node.children[i], k)\n",
        "\n",
        "    def split_child(self, parent, i):\n",
        "        t = self.t\n",
        "        y = parent.children[i]\n",
        "        z = BTreeNode(t, y.leaf)\n",
        "\n",
        "        parent.children.insert(i + 1, z)\n",
        "        parent.keys.insert(i, y.keys[t - 1])\n",
        "\n",
        "        z.keys = y.keys[t:(2 * t - 1)]\n",
        "        y.keys = y.keys[0:(t - 1)]\n",
        "\n",
        "        if not y.leaf:\n",
        "            z.children = y.children[t:(2 * t)]\n",
        "            y.children = y.children[0:t]\n",
        "\n",
        "    def predecessor(self, k):\n",
        "        node_info = self.search(k)\n",
        "        if not node_info:\n",
        "            return None\n",
        "        node, idx = node_info\n",
        "\n",
        "        if not node.leaf:\n",
        "            cur = node.children[idx]\n",
        "            while not cur.leaf:\n",
        "                cur = cur.children[-1]\n",
        "            return cur.keys[-1]\n",
        "        elif idx > 0:\n",
        "            return node.keys[idx - 1]\n",
        "        else:\n",
        "            return None\n",
        "\n",
        "    def successor(self, k):\n",
        "        node_info = self.search(k)\n",
        "        if not node_info:\n",
        "            return None\n",
        "        node, idx = node_info\n",
        "\n",
        "        if not node.leaf:\n",
        "            cur = node.children[idx + 1]\n",
        "            while not cur.leaf:\n",
        "                cur = cur.children[0]\n",
        "            return cur.keys[0]\n",
        "        elif idx < len(node.keys) - 1:\n",
        "            return node.keys[idx + 1]\n",
        "        else:\n",
        "            return None\n",
        "\n",
        "# Função para medir tempo de inicialização do deque\n",
        "def measure_deque_initialization(sizes):\n",
        "    for size in sizes:\n",
        "        start_time = time.time()\n",
        "        d = deque(range(size))\n",
        "        end_time = time.time()\n",
        "        print(f\"Tempo de inicialização: {end_time - start_time:.6f}s | Tamanho do deque: {size}\")\n",
        "\n",
        "if __name__ == '__main__':\n",
        "    # Testando B-Tree\n",
        "    btree = BTree(3)\n",
        "    for num in [10, 20, 5, 6, 12, 30, 7, 17]:\n",
        "        btree.insert(num)\n",
        "\n",
        "    print(\"Sucessor de 6:\", btree.successor(6))\n",
        "    print(\"Predecessor de 6:\", btree.predecessor(6))\n",
        "\n",
        "    # Testando deque\n",
        "    sizes = [1000, 10000, 1000000]\n",
        "    measure_deque_initialization(sizes)\n"
      ],
      "metadata": {
        "colab": {
          "base_uri": "https://localhost:8080/"
        },
        "id": "4CBT-ffUBAno",
        "outputId": "5e592572-45c0-401f-865b-06e781e0de14"
      },
      "execution_count": null,
      "outputs": [
        {
          "output_type": "stream",
          "name": "stdout",
          "text": [
            "Sucessor de 6: 7\n",
            "Predecessor de 6: 5\n",
            "Tempo de inicialização: 0.000098s | Tamanho do deque: 1000\n",
            "Tempo de inicialização: 0.000445s | Tamanho do deque: 10000\n",
            "Tempo de inicialização: 0.081910s | Tamanho do deque: 1000000\n"
          ]
        }
      ]
    },
    {
      "cell_type": "markdown",
      "source": [
        "1 - Árvore B:\n",
        "\n",
        "• Inserção: O(log n) – devido à altura balanceada da árvore.\n",
        "\n",
        "• Busca: O(log n) – percorre níveis até encontrar o elemento.\n",
        "\n",
        "• Sucessor/Predecessor: O(log n) – baseado na busca.\n",
        "\n",
        "• Espaço: O(n) – cada elemento é armazenado uma única vez.\n",
        "\n",
        "2 - Deque:\n",
        "\n",
        "• Inicialização: O(n) – insere n elementos linearmente.\n",
        "\n",
        "• Espaço: O(n) – armazena n elementos."
      ],
      "metadata": {
        "id": "pkrAFGrtBJOi"
      }
    },
    {
      "cell_type": "markdown",
      "source": [
        "g) imprimirEmOrdem(): Imprime todos os valores da árvore B em ordem crescente"
      ],
      "metadata": {
        "id": "_BiuJ_afBpnI"
      }
    },
    {
      "cell_type": "code",
      "source": [
        "import time\n",
        "import collections"
      ],
      "metadata": {
        "id": "3Bx7xzhzk2Ja"
      },
      "execution_count": 1,
      "outputs": []
    },
    {
      "cell_type": "code",
      "source": [
        "class BTreeNode:\n",
        "    def __init__(self, leaf=False):\n",
        "        self.leaf = leaf\n",
        "        self.keys = []\n",
        "        self.children = []\n",
        "\n",
        "class BTree:\n",
        "    def __init__(self, t):\n",
        "        self.root = BTreeNode(leaf=True)\n",
        "        self.t = t  # Grau mínimo da árvore B\n",
        "\n",
        "    def imprimirEmOrdem(self, node=None):\n",
        "        if node is None:\n",
        "            node = self.root\n",
        "\n",
        "        for i in range(len(node.keys)):\n",
        "            if not node.leaf:\n",
        "                self.imprimirEmOrdem(node.children[i])\n",
        "            print(node.keys[i], end=' ')\n",
        "\n",
        "        if not node.leaf:\n",
        "            self.imprimirEmOrdem(node.children[-1])\n",
        "\n",
        "# Teste de inicialização do deque\n",
        "def medir_tempo_deque(tamanho):\n",
        "    inicio = time.time()\n",
        "    d = collections.deque(maxlen=tamanho)\n",
        "    fim = time.time()\n",
        "    print(f\"Tempo de inicialização: {fim - inicio:.6f} segundos | Tamanho do deque: {tamanho}\")\n",
        "\n",
        "# Executando os testes com deque\n",
        "for tamanho in [1000, 10000, 1000000]:\n",
        "    medir_tempo_deque(tamanho)\n",
        "\n",
        "# Exemplo de uso da Árvore B\n",
        "b_tree = BTree(t=3)\n",
        "b_tree.root.keys = [10, 20, 30]\n",
        "b_tree.root.children = [BTreeNode(leaf=True), BTreeNode(leaf=True), BTreeNode(leaf=True), BTreeNode(leaf=True)]\n",
        "b_tree.root.children[0].keys = [5]\n",
        "b_tree.root.children[1].keys = [15]\n",
        "b_tree.root.children[2].keys = [25]\n",
        "b_tree.root.children[3].keys = [35]\n",
        "\n",
        "print(\"Elementos da Árvore B em ordem:\")\n",
        "b_tree.imprimirEmOrdem()\n"
      ],
      "metadata": {
        "colab": {
          "base_uri": "https://localhost:8080/"
        },
        "id": "ipFRlI0wkyY0",
        "outputId": "28e8aff2-b198-4106-ce1a-46db1f5cecb2"
      },
      "execution_count": 2,
      "outputs": [
        {
          "output_type": "stream",
          "name": "stdout",
          "text": [
            "Tempo de inicialização: 0.000005 segundos | Tamanho do deque: 1000\n",
            "Tempo de inicialização: 0.000002 segundos | Tamanho do deque: 10000\n",
            "Tempo de inicialização: 0.000001 segundos | Tamanho do deque: 1000000\n",
            "Elementos da Árvore B em ordem:\n",
            "10 20 30 "
          ]
        }
      ]
    },
    {
      "cell_type": "markdown",
      "source": [
        "1 - Impressão em ordem (imprimirEmOrdem())\n",
        "\n",
        "• Complexidade:\n",
        "𝑂(𝑛)\n",
        "O(n), onde 𝑛\n",
        "n é o número de chaves na árvore. Isso ocorre porque percorremos todos os nós e imprimimos as chaves em ordem crescente.\n",
        "\n",
        "• Tempo de execução: Depende do número total de chaves na árvore. No pior caso, é linear em relação ao tamanho da árvore.\n",
        "\n",
        "2 - Inicialização do deque (medir_tempo_deque())\n",
        "Complexidade:\n",
        "𝑂\n",
        "(\n",
        "1\n",
        ")\n",
        "O(1), pois a criação de um deque com um tamanho fixo é uma operação de tempo constante.\n",
        "\n",
        "• Tempo de execução: Medido experimentalmente no código, mas geralmente é muito pequeno (da ordem de microssegundos a milissegundos, dependendo do tamanho)."
      ],
      "metadata": {
        "id": "4Saxva_6k8Ka"
      }
    },
    {
      "cell_type": "markdown",
      "source": [
        "h) dividirNo(no): Divide um nó da árvore B quando ele excede o número máximo de\n",
        "chaves. O nó é dividido em dois, e a chave do meio é promovida ao nó pai.\n"
      ],
      "metadata": {
        "id": "7k0ycGt8NPhu"
      }
    },
    {
      "cell_type": "code",
      "source": [
        "import time\n",
        "from collections import deque"
      ],
      "metadata": {
        "id": "FDllJokANaIs"
      },
      "execution_count": 1,
      "outputs": []
    },
    {
      "cell_type": "code",
      "source": [
        "class NoB:\n",
        "    def __init__(self, t, folha=False):\n",
        "        self.t = t  # Grau mínimo\n",
        "        self.folha = folha\n",
        "        self.chaves = []  # Lista de chaves\n",
        "        self.filhos = []  # Lista de filhos\n",
        "\n",
        "class ArvoreB:\n",
        "    def __init__(self, t):\n",
        "        self.raiz = NoB(t, True)\n",
        "        self.t = t\n",
        "\n",
        "    def dividirNo(self, pai, indice, no):\n",
        "        t = self.t\n",
        "        novo_no = NoB(t, no.folha)\n",
        "        meio = t - 1\n",
        "\n",
        "        novo_no.chaves = no.chaves[meio + 1:]\n",
        "        no.chaves = no.chaves[:meio]\n",
        "\n",
        "        if not no.folha:\n",
        "            novo_no.filhos = no.filhos[meio + 1:]\n",
        "            no.filhos = no.filhos[:meio + 1]\n",
        "\n",
        "        pai.filhos.insert(indice + 1, novo_no)\n",
        "        pai.chaves.insert(indice, no.chaves.pop(-1))\n",
        "\n",
        "# Função para medir o tempo de inicialização de um deque\n",
        "def medir_tempo_deque(tamanho):\n",
        "    inicio = time.time()\n",
        "    d = deque(maxlen=tamanho)\n",
        "    fim = time.time()\n",
        "    print(f\"Tempo de inicialização: {fim - inicio:.6f} segundos  Tamanho do deque: {tamanho}\")\n",
        "\n",
        "# Teste dos tempos de inicialização do deque\n",
        "for tamanho in [1000, 10000, 1000000]:\n",
        "    medir_tempo_deque(tamanho)\n"
      ],
      "metadata": {
        "colab": {
          "base_uri": "https://localhost:8080/"
        },
        "id": "RCWKyLvLNqHu",
        "outputId": "190fa12c-b9f7-47c0-b270-354239968561"
      },
      "execution_count": 2,
      "outputs": [
        {
          "output_type": "stream",
          "name": "stdout",
          "text": [
            "Tempo de inicialização: 0.000003 segundos  Tamanho do deque: 1000\n",
            "Tempo de inicialização: 0.000002 segundos  Tamanho do deque: 10000\n",
            "Tempo de inicialização: 0.000001 segundos  Tamanho do deque: 1000000\n"
          ]
        }
      ]
    },
    {
      "cell_type": "markdown",
      "source": [
        "Divisão de um nó na Árvore B (dividirNo)\n",
        "\n",
        "1 - Complexidade:\n",
        "𝑂\n",
        "(\n",
        "𝑡\n",
        ")\n",
        "O(t), onde\n",
        "𝑡\n",
        "t é o grau mínimo da árvore.\n",
        "\n",
        "• Motivo: A operação envolve copiar metade das chaves e filhos para um novo nó, o que leva tempo proporcional ao número de elementos.\n",
        "Inicialização do deque (medir_tempo_deque)\n",
        "\n",
        "2 - Complexidade:\n",
        "𝑂\n",
        "(\n",
        "1\n",
        ")\n",
        "O(1) para criar um deque com um tamanho máximo especificado.\n",
        "\n",
        "• Tempo de execução: O tempo de inicialização é quase constante, independentemente do tamanho do deque, pois a memória só é alocada quando elementos são adicionados."
      ],
      "metadata": {
        "id": "ckc1PhlpNwD9"
      }
    },
    {
      "cell_type": "markdown",
      "source": [
        "i)Calcular a ordem da árvore (número máximo de filhos por nó)."
      ],
      "metadata": {
        "id": "9n4tJ8QDPGy-"
      }
    },
    {
      "cell_type": "code",
      "source": [
        "import time\n",
        "import collections"
      ],
      "metadata": {
        "id": "S0ZtsbuJPJf8"
      },
      "execution_count": 4,
      "outputs": []
    },
    {
      "cell_type": "code",
      "source": [
        "class BTreeNode:\n",
        "    def __init__(self, leaf=False):\n",
        "        self.leaf = leaf\n",
        "        self.keys = []\n",
        "        self.children = []\n",
        "\n",
        "class BTree:\n",
        "    def __init__(self, t):\n",
        "        self.root = BTreeNode(True)\n",
        "        self.t = t  # Grau mínimo da árvore B\n",
        "\n",
        "    def get_order(self):\n",
        "        return 2 * self.t  # Ordem da árvore B (número máximo de filhos por nó)\n",
        "\n",
        "# Função para medir o tempo de inicialização do deque\n",
        "def measure_deque_initialization(size):\n",
        "    start_time = time.time()\n",
        "    dq = deque(range(size))\n",
        "    end_time = time.time()\n",
        "    print(f\"Tempo de inicialização: {end_time - start_time:.6f} segundos | Tamanho do deque: {size}\")\n",
        "\n",
        "if __name__ == \"__main__\":\n",
        "    # Criando uma árvore B com grau mínimo t = 3\n",
        "    b_tree = BTree(3)\n",
        "    print(f\"Ordem da árvore B: {b_tree.get_order()}\")\n",
        "\n",
        "    # Medindo tempo de inicialização para diferentes tamanhos de deque\n",
        "    for size in [1000, 10000, 1000000]:\n",
        "        measure_deque_initialization(size)"
      ],
      "metadata": {
        "colab": {
          "base_uri": "https://localhost:8080/"
        },
        "id": "Te3DiulbPjgc",
        "outputId": "d1aa4721-bb38-49f3-b68d-b089b6c4c4b7"
      },
      "execution_count": 6,
      "outputs": [
        {
          "output_type": "stream",
          "name": "stdout",
          "text": [
            "Ordem da árvore B: 6\n",
            "Tempo de inicialização: 0.000032 segundos | Tamanho do deque: 1000\n",
            "Tempo de inicialização: 0.000193 segundos | Tamanho do deque: 10000\n",
            "Tempo de inicialização: 0.037040 segundos | Tamanho do deque: 1000000\n"
          ]
        }
      ]
    },
    {
      "cell_type": "markdown",
      "source": [
        "Cálculo da ordem da árvore B (get_order)\n",
        "\n",
        "1 - Complexidade:\n",
        "𝑂\n",
        "(\n",
        "1\n",
        ")\n",
        "O(1) (Tempo constante, pois é apenas uma multiplicação).\n",
        "\n",
        "• Tempo de execução: Muito rápido, praticamente instantâneo.\n",
        "Inicialização do deque (measure_deque_initialization)\n",
        "\n",
        "1 - Complexidade:\n",
        "𝑂\n",
        "(\n",
        "𝑛\n",
        ")\n",
        "O(n) (Onde\n",
        "𝑛\n",
        "n é o tamanho do deque, pois ele percorre e adiciona elementos).\n",
        "\n",
        "• Tempo de execução: Cresce linearmente com o tamanho do deque, sendo rápido para tamanhos pequenos e mais lento para grandes."
      ],
      "metadata": {
        "id": "0do0fnmhP2Ew"
      }
    },
    {
      "cell_type": "markdown",
      "source": [
        "j) Implemente uma função que retorne o número total de chaves armazenadas na árvore\n",
        "B."
      ],
      "metadata": {
        "id": "6kXL-dkPWz8G"
      }
    },
    {
      "cell_type": "code",
      "source": [
        "import time\n",
        "from collections import deque"
      ],
      "metadata": {
        "id": "JCU0-QkSW8tt"
      },
      "execution_count": 7,
      "outputs": []
    },
    {
      "cell_type": "code",
      "source": [
        "class BTreeNode:\n",
        "    def __init__(self, leaf=False):\n",
        "        self.leaf = leaf\n",
        "        self.keys = []\n",
        "        self.children = []\n",
        "\n",
        "class BTree:\n",
        "    def __init__(self, t):\n",
        "        self.root = BTreeNode(True)\n",
        "        self.t = t\n",
        "\n",
        "    def count_keys(self, node=None):\n",
        "        if node is None:\n",
        "            node = self.root\n",
        "        count = len(node.keys)\n",
        "        if not node.leaf:\n",
        "            for child in node.children:\n",
        "                count += self.count_keys(child)\n",
        "        return count\n",
        "\n",
        "def measure_deque_initialization(sizes):\n",
        "    for size in sizes:\n",
        "        start_time = time.time()\n",
        "        d = deque(range(size))\n",
        "        end_time = time.time()\n",
        "        print(f\"Tempo de inicialização: {end_time - start_time:.6f} segundos | Tamanho do deque: {size}\")\n",
        "\n",
        "# Criando e populando uma árvore B com ordem 3\n",
        "b_tree = BTree(3)\n",
        "print(f\"Número total de chaves na árvore B: {b_tree.count_keys()}\")\n",
        "\n",
        "# Medindo tempo de inicialização do deque\n",
        "measure_deque_initialization([1000, 10000, 1000000])\n"
      ],
      "metadata": {
        "colab": {
          "base_uri": "https://localhost:8080/"
        },
        "id": "D1I51vzAW86-",
        "outputId": "5bd16a89-dc8d-4b08-89a7-66285a1dfd10"
      },
      "execution_count": 8,
      "outputs": [
        {
          "output_type": "stream",
          "name": "stdout",
          "text": [
            "Número total de chaves na árvore B: 0\n",
            "Tempo de inicialização: 0.000026 segundos | Tamanho do deque: 1000\n",
            "Tempo de inicialização: 0.000210 segundos | Tamanho do deque: 10000\n",
            "Tempo de inicialização: 0.042258 segundos | Tamanho do deque: 1000000\n"
          ]
        }
      ]
    },
    {
      "cell_type": "markdown",
      "source": [
        "Contagem de chaves na Árvore B (count_keys)\n",
        "\n",
        "1 - Complexidade:\n",
        "𝑂\n",
        "(\n",
        "𝑛\n",
        ")\n",
        "O(n), onde\n",
        "𝑛\n",
        "n é o número total de chaves na árvore.\n",
        "\n",
        "• Explicação: O algoritmo percorre todas as chaves armazenadas na árvore B, incluindo as dos nós filhos.\n",
        "\n",
        "• Tempo de execução: Depende do tamanho da árvore, mas em um caso balanceado, o tempo de execução cresce linearmente com o número de chaves.\n",
        "\n",
        "• Inicialização do deque (measure_deque_initialization)\n",
        "\n",
        "2 - Complexidade:\n",
        "𝑂\n",
        "(\n",
        "𝑛\n",
        ")\n",
        "O(n), onde\n",
        "𝑛\n",
        "n é o tamanho do deque.\n",
        "\n",
        "• Explicação: Criar um deque(range(n)) exige a adição de\n",
        "𝑛\n",
        "n elementos, o que leva tempo proporcional a\n",
        "𝑛\n",
        "n.\n",
        "\n",
        "• Tempo de execução: Aproximadamente linear em relação ao tamanho do deque, ou seja, dobra quando o tamanho dobra."
      ],
      "metadata": {
        "id": "Otl5721NYjgW"
      }
    }
  ]
}